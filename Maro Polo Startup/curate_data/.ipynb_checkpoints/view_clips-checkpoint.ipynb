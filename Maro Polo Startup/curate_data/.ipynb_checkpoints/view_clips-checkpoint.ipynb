{
 "cells": [
  {
   "cell_type": "code",
   "execution_count": null,
   "metadata": {},
   "outputs": [],
   "source": [
    "import numpy as np\n",
    "import pdb\n",
    "import xml.etree.ElementTree\n",
    "#from moviepy.editor import VideoFileClip\n",
    "from moviepy.editor import *\n",
    "import os\n",
    "import glob\n",
    "import xmltodict\n",
    "import pandas as pd\n",
    "\n",
    "rootdir = '/Volumes/scet/CalWWP-2_2017-18/_2017-18'\n",
    "game_metadata_file = '{}/game_metadata.csv'.format(rootdir)\n",
    "game_metadata = pd.read_csv(game_metadata_file)"
   ]
  },
  {
   "cell_type": "code",
   "execution_count": null,
   "metadata": {},
   "outputs": [],
   "source": [
    "game_metadata.game_file.values[25] #.game_file.values"
   ]
  },
  {
   "cell_type": "code",
   "execution_count": null,
   "metadata": {},
   "outputs": [],
   "source": [
    "## get all the keys from all the xml files\n",
    "all_keys = []\n",
    "for (i,xml) in enumerate(game_metadata.xml_file.values):\n",
    "    print(i)\n",
    "    with open('{}/{}'.format(rootdir,xml)) as fd:\n",
    "        temp = xmltodict.parse(fd.read())\n",
    "        events = temp['file']['ALL_INSTANCES']['instance']\n",
    "        for (i,e) in enumerate(events):\n",
    "            all_keys.append(e['code'])"
   ]
  },
  {
   "cell_type": "code",
   "execution_count": 110,
   "metadata": {},
   "outputs": [
    {
     "data": {
      "text/plain": [
       "{u'CD_',\n",
       " u'CD_Charter',\n",
       " u'CD_Kindred',\n",
       " u'CD_Misc',\n",
       " u'CD_Nusi',\n",
       " u'C_Carla',\n",
       " u'C_Hannah',\n",
       " u'C_Kitty',\n",
       " u'C_Misc',\n",
       " u'C_Rachael',\n",
       " u'Cal Offensive',\n",
       " u'Cal Turn Over',\n",
       " u'Dark 6 X 5',\n",
       " u'Dark 6 X 5 TO',\n",
       " u'Dark After Goal',\n",
       " u'Dark Center Entry',\n",
       " u'Dark Counter Attack',\n",
       " u'Dark Goal',\n",
       " u'Dark Offense',\n",
       " u'Dark Penalty Earned',\n",
       " u'Dark Shot',\n",
       " u'Dark TO',\n",
       " u'FULL GAME',\n",
       " u'FULL GOAL',\n",
       " u'Havoc',\n",
       " u'White 6 X 5',\n",
       " u'White 6 X 5 TO',\n",
       " u'White After Goal',\n",
       " u'White Center Entry',\n",
       " u'White Counter Attack',\n",
       " u'White Goal',\n",
       " u'White Offense',\n",
       " u'White Penalty Earned',\n",
       " u'White Shot',\n",
       " u'White TO'}"
      ]
     },
     "execution_count": 110,
     "metadata": {},
     "output_type": "execute_result"
    }
   ],
   "source": [
    "set(all_keys)"
   ]
  },
  {
   "cell_type": "code",
   "execution_count": 115,
   "metadata": {},
   "outputs": [],
   "source": [
    "game_id = 25\n",
    "filename = '{}/{}'.format(rootdir,game_metadata.xml_file.values[game_id])\n",
    "events = get_xml_events(filename)\n",
    "meta_keys = ['game_file','xml_file','fosh_url','pool_location',\n",
    "             'game_time','game_date','home_team','away_team',\n",
    "             'home_score','away_score']\n",
    "meta = get_game_metadata(game_id+2,game_metadata,meta_keys)\n",
    "\n",
    "teams = ['Dark','White']\n",
    "codes = ['{} 6 X 5','{} 6 X 5 TO','{} After Goal','{} Center Entry','{} Counter Attack',\n",
    "         '{} Goal','{} Offense','{} Penalty Earned','{} Shot','{} TO']\n",
    "\n",
    "T1 = get_all_times(events,codes[0].format(teams[0]))\n",
    "T2 = get_all_times(events,codes[1].format(teams[0]))\n",
    "T3 = get_all_times(events,codes[2].format(teams[0]))\n",
    "T4 = get_all_times(events,codes[3].format(teams[0]))\n",
    "T5 = get_all_times(events,codes[4].format(teams[0]))\n",
    "T6 = get_all_times(events,codes[5].format(teams[0]))\n"
   ]
  },
  {
   "cell_type": "code",
   "execution_count": 123,
   "metadata": {},
   "outputs": [
    {
     "ename": "SyntaxError",
     "evalue": "invalid syntax (<ipython-input-123-6fcc86a13aa9>, line 17)",
     "output_type": "error",
     "traceback": [
      "\u001b[0;36m  File \u001b[0;32m\"<ipython-input-123-6fcc86a13aa9>\"\u001b[0;36m, line \u001b[0;32m17\u001b[0m\n\u001b[0;31m    t.append([float(e['start']),float(e['end']])\u001b[0m\n\u001b[0m                                              ^\u001b[0m\n\u001b[0;31mSyntaxError\u001b[0m\u001b[0;31m:\u001b[0m invalid syntax\n"
     ]
    }
   ],
   "source": [
    "def get_xml_events(fname):\n",
    "    with open(filename) as fd:\n",
    "        doc = xmltodict.parse(fd.read())\n",
    "    events = doc['file']['ALL_INSTANCES']['instance']\n",
    "    return events\n",
    "\n",
    "def get_game_metadata(game_id,game_metadata,keylist):\n",
    "    metadata = game_metadata.iloc[game_id].to_dict()\n",
    "    metadata = { key: metadata[key] for key in keylist }\n",
    "    return metadata\n",
    "\n",
    "def get_all_times(events,event_name):\n",
    "    t = []\n",
    "    for (i,e) in enumerate(events):\n",
    "        if e['code'] == event_name:\n",
    "            pdb.set_trace()\n",
    "            t.append([float(e['start']),float(e['end']])\n",
    "    return t\n",
    "\n",
    "def merge_ranges(ranges):\n",
    "    \"\"\"\n",
    "    Merge overlapping and adjacent ranges and yield the merged ranges\n",
    "    in order. The argument must be an iterable of pairs (start, stop).\n",
    "\n",
    "    >>> list(merge_ranges([(5,7), (3,5), (-1,3)]))\n",
    "    [(-1, 7)]\n",
    "    >>> list(merge_ranges([(5,6), (3,4), (1,2)]))\n",
    "    [(1, 2), (3, 4), (5, 6)]\n",
    "    >>> list(merge_ranges([]))\n",
    "    []\n",
    "    \"\"\"\n",
    "    ranges = iter(sorted(ranges))\n",
    "    current_start, current_stop = next(ranges)\n",
    "    for start, stop in ranges:\n",
    "        if start > current_stop:\n",
    "            # Gap between segments: output current segment and start a new one.\n",
    "            yield current_start, current_stop\n",
    "            current_start, current_stop = start, stop\n",
    "        else:\n",
    "            # Segments adjacent or overlapping: merge.\n",
    "            current_stop = max(current_stop, stop)\n",
    "    yield current_start, current_stop"
   ]
  },
  {
   "cell_type": "code",
   "execution_count": 117,
   "metadata": {},
   "outputs": [
    {
     "data": {
      "text/plain": [
       "[[86.134, 111.134],\n",
       " [149.814, 174.814],\n",
       " [199.694, 224.694],\n",
       " [255.624, 280.694],\n",
       " [292.524, 317.524],\n",
       " [453.234, 478.234],\n",
       " [648.764, 673.764],\n",
       " [718.494, 743.504],\n",
       " [1103.104, 1128.104],\n",
       " [1192.034, 1217.034],\n",
       " [1290.354, 1315.354],\n",
       " [1441.174, 1466.184],\n",
       " [1536.574, 1571.894],\n",
       " [1941.1215, 1966.1215],\n",
       " [2188.1315, 2213.1315],\n",
       " [2333.4915, 2358.4915],\n",
       " [2383.5715, 2408.5815],\n",
       " [2945.8815, 2959.6515],\n",
       " [3093.1815, 3118.1815],\n",
       " [3232.9615, 3257.9615],\n",
       " [3307.2015, 3320.4715],\n",
       " [3412.2215, 3437.2215],\n",
       " [3461.2515, 3486.2515],\n",
       " [3519.7315, 3544.7415],\n",
       " [3814.4215, 3839.4215]]"
      ]
     },
     "execution_count": 117,
     "metadata": {},
     "output_type": "execute_result"
    }
   ],
   "source": [
    "T5"
   ]
  },
  {
   "cell_type": "code",
   "execution_count": 109,
   "metadata": {},
   "outputs": [
    {
     "data": {
      "text/plain": [
       "[[3019.0315, 3059.0315]]"
      ]
     },
     "execution_count": 109,
     "metadata": {},
     "output_type": "execute_result"
    }
   ],
   "source": [
    "T5"
   ]
  },
  {
   "cell_type": "code",
   "execution_count": 106,
   "metadata": {},
   "outputs": [
    {
     "data": {
      "text/plain": [
       "[[479.154, 527.164],\n",
       " [971.104, 1019.104],\n",
       " [1981.6015, 2029.6015],\n",
       " [2943.8115, 2960.1215],\n",
       " [3006.0315, 3054.0315],\n",
       " [3311.6415, 3360.9915]]"
      ]
     },
     "execution_count": 106,
     "metadata": {},
     "output_type": "execute_result"
    }
   ],
   "source": [
    "T4"
   ]
  },
  {
   "cell_type": "code",
   "execution_count": null,
   "metadata": {},
   "outputs": [],
   "source": [
    "key = []\n",
    "\n",
    "ids = []\n",
    "for (i,e) in enumerate(events):\n",
    "    key.append(e['code'])\n",
    "    if e['code'] == 'Havoc':\n",
    "        ids.append(i)"
   ]
  },
  {
   "cell_type": "code",
   "execution_count": null,
   "metadata": {},
   "outputs": [],
   "source": [
    "ids2"
   ]
  },
  {
   "cell_type": "code",
   "execution_count": null,
   "metadata": {},
   "outputs": [],
   "source": [
    "# get that clip and save it.\n",
    "vid_save_loc = '{}/{}'.format(rootdir,game_metadata.game_file.values[game_id])\n",
    "save_path = '/Volumes/scet/CalWWP-2_2017-18/temp_clips/'\n",
    "\n",
    "g_code = 0\n",
    "event_id = 7\n",
    "\n",
    "inversion = [2,1,0]; codec = 'rawvideo'\n",
    "inversion = [0,1,2]; codec = 'libx264'\n",
    "\n",
    "# for avi rawvideo, inversion: [2,1,0]\n",
    "def invert_image(image):\n",
    "    return image[:,:,inversion]\n",
    "\n",
    "#modifiedClip = my_clip.fl_image( invert_green_blue )\n",
    "\n",
    "for (k,id) in enumerate(ids):\n",
    "    print(k)\n",
    "    t_start = float(events[id]['start'])\n",
    "    t_end = float(events[id]['end'])\n",
    "    clip = VideoFileClip(vid_save_loc).subclip(t_start, t_end)\n",
    "    # clip name convention GAME_CODE +  event_id + clip number\n",
    "    clip_name = '{}_{}_{}.avi'.format(g_code, event_id, k)\n",
    "    clip_path = os.path.join(save_path, clip_name)\n",
    "    # t_end - t_start\n",
    "    clip.set_duration(t_end-t_start).fl_image(invert_image).write_videofile(clip_path,codec=codec)\n",
    "    \n",
    "    del clip\n"
   ]
  },
  {
   "cell_type": "code",
   "execution_count": null,
   "metadata": {},
   "outputs": [],
   "source": []
  }
 ],
 "metadata": {
  "kernelspec": {
   "display_name": "Python 2",
   "language": "python",
   "name": "python2"
  },
  "language_info": {
   "codemirror_mode": {
    "name": "ipython",
    "version": 2
   },
   "file_extension": ".py",
   "mimetype": "text/x-python",
   "name": "python",
   "nbconvert_exporter": "python",
   "pygments_lexer": "ipython2",
   "version": "2.7.10"
  }
 },
 "nbformat": 4,
 "nbformat_minor": 2
}
