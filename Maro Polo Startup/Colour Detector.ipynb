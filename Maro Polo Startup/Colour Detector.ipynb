{
 "cells": [
  {
   "cell_type": "code",
   "execution_count": 3,
   "metadata": {
    "collapsed": true
   },
   "outputs": [],
   "source": [
    "import numpy as np\n",
    "\n",
    "import cv2\n",
    "\n",
    "import csv\n",
    "\n",
    "import sys"
   ]
  },
  {
   "cell_type": "code",
   "execution_count": 2,
   "metadata": {
    "collapsed": true
   },
   "outputs": [],
   "source": [
    "video_path = '20180128_UCIvCAL.mov'\n",
    "cv2.ocl.setUseOpenCL(False)\n",
    "\n",
    "#read video file\n",
    "cap = cv2.VideoCapture('20180128_UCIvCAL.mov')\n",
    "\n"
   ]
  },
  {
   "cell_type": "code",
   "execution_count": null,
   "metadata": {
    "collapsed": true
   },
   "outputs": [],
   "source": [
    "#threshold function to convert every single colour other than shades of yellow to black\n",
    "def convertor(frame):\n",
    "    hsv = cv2.cvtColor(frame, cv2.COLOR_BGR2HSV);\n",
    "    upper = np.array([59,100,100]);\n",
    "    lower = np.array([48, 95, 95]);\n",
    "    mask = cv2.inRange(hsv, lower, upper);\n",
    "    res = cv2.bitwise_and(frame,frame, mask= mask);\n",
    "    #Create a window for display.\n",
    "    print('a')\n",
    "    cv2.startWindowThread()\n",
    "    cv2.namedWindow(\"preview\")\n",
    "    print('a')\n",
    "    cv2.imshow('mask',res);\n",
    "    print('a')\n",
    "    cv2.waitKey(0) \n",
    "    cv2.imshow('mask',mask);\n",
    "    cv2.imshow('res',res);\n",
    "    cv2.imshow('mask',mask);\n",
    "    return res;\n",
    "\n",
    "\n",
    "\n",
    "\n",
    "def main():\n",
    "    cap = cv2.VideoCapture('20180128_UCIvCAL.mov')\n",
    "    fgbg = cv2.createBackgroundSubtractorMOG2()\n",
    "    \n",
    "    while (cap.isOpened):\n",
    "\n",
    "        #if ret is true than no error with cap.isOpened\n",
    "        ret, frame = cap.read()\n",
    "        frame = convertor(frame)\n",
    "        if ret==True:\n",
    "            #apply background substraction\n",
    "            fgmask = fgbg.apply(frame) \n",
    "            (im2, contours, hierarchy) = cv2.findContours(fgmask.copy(), cv2.RETR_EXTERNAL,cv2.CHAIN_APPROX_SIMPLE)\n",
    "            for c in contours:\n",
    "                if cv2.contourArea(c) < 500:\n",
    "                    continue\n",
    "\n",
    "                #get bounding box from countour\n",
    "                (x, y, w, h) = cv2.boundingRect(c)\n",
    "\n",
    "                #draw bounding box\n",
    "                cv2.rectangle(frame, (x, y), (x + w, y + h), (0, 255, 0), 2)\n",
    "\n",
    "            cv2.imshow('foreground and background',fgmask)\n",
    "            cv2.imshow('rgb',frame)\n"
   ]
  },
  {
   "cell_type": "code",
   "execution_count": null,
   "metadata": {},
   "outputs": [],
   "source": [
    "main()"
   ]
  },
  {
   "cell_type": "code",
   "execution_count": null,
   "metadata": {
    "collapsed": true
   },
   "outputs": [],
   "source": [
    "img=cv2.imread(\"image00001.jpg\")\n",
    "cv2.startWindowThread()\n",
    "cv2.namedWindow(\"preview\")\n",
    "cv2.imshow(\"preview\", img)\n",
    "\n",
    "cv2.waitKey()"
   ]
  },
  {
   "cell_type": "code",
   "execution_count": null,
   "metadata": {
    "collapsed": true
   },
   "outputs": [],
   "source": []
  }
 ],
 "metadata": {
  "kernelspec": {
   "display_name": "Python 3",
   "language": "python",
   "name": "python3"
  },
  "language_info": {
   "codemirror_mode": {
    "name": "ipython",
    "version": 3
   },
   "file_extension": ".py",
   "mimetype": "text/x-python",
   "name": "python",
   "nbconvert_exporter": "python",
   "pygments_lexer": "ipython3",
   "version": "3.6.1"
  }
 },
 "nbformat": 4,
 "nbformat_minor": 2
}
